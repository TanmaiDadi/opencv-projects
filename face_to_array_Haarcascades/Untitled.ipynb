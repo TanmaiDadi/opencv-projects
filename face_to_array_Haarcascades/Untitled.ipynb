{
 "cells": [
  {
   "cell_type": "code",
   "execution_count": 2,
   "id": "8aa5da54",
   "metadata": {},
   "outputs": [
    {
     "name": "stdout",
     "output_type": "stream",
     "text": [
      "Enter name of personNaveen\n",
      "data saved\n"
     ]
    }
   ],
   "source": [
    "# pip install opencv-python\n",
    "import cv2\n",
    "import numpy as np\n",
    "\n",
    "face_data = []\n",
    "datasetpath = './data/'\n",
    "\n",
    "file_name = input(\"Enter name of person\")\n",
    "face_cascade = cv2.CascadeClassifier(\"haarcascade_frontalface_alt.xml\")\n",
    "cap = cv2.VideoCapture(0) \n",
    "skip = 0\n",
    "while True:\n",
    "    ret , frame = cap.read() \n",
    "    if ret==False:\n",
    "        continue\n",
    "    gray_frame = cv2.cvtColor(frame,cv2.COLOR_BGR2GRAY)\n",
    "    faces = face_cascade.detectMultiScale(frame, 1.3, 5)\n",
    "    faces = sorted(faces,key=lambda f:f[2]*f[3],reverse=True)\n",
    "    for face in faces:\n",
    "        x,y,w,h = face\n",
    "        cv2.rectangle(frame,(x,y),(x+w,y+h),(0,255,255),2)\n",
    "        offset = 10\n",
    "        face_section = frame[y-offset:y+h+offset,x-offset:x+w+offset]\n",
    "        face_section = cv2.resize(face_section,(100,100))\n",
    "        if skip%10==0:\n",
    "            face_data.append(face_section)\n",
    "#             cv2.imshow(\"face frame\",face_section)\n",
    "\n",
    "        \n",
    "    cv2.imshow(\"Video frame\",frame)\n",
    "    skip+=1\n",
    "    key_pressed  =  cv2.waitKey(1) & 0xFF \n",
    "    if key_pressed == ord('q'):\n",
    "        break\n",
    "        \n",
    "face_data = np.asarray(face_data)\n",
    "face_data = face_data.reshape((face_data.shape[0],-1))\n",
    "np.save(datasetpath+file_name+'.npy',face_data)\n",
    "print(\"data saved\")\n",
    "cap.release()\n",
    "cv2.destroyAllWindows()"
   ]
  },
  {
   "cell_type": "code",
   "execution_count": null,
   "id": "0472ebb4",
   "metadata": {},
   "outputs": [],
   "source": []
  }
 ],
 "metadata": {
  "kernelspec": {
   "display_name": "Python 3 (ipykernel)",
   "language": "python",
   "name": "python3"
  },
  "language_info": {
   "codemirror_mode": {
    "name": "ipython",
    "version": 3
   },
   "file_extension": ".py",
   "mimetype": "text/x-python",
   "name": "python",
   "nbconvert_exporter": "python",
   "pygments_lexer": "ipython3",
   "version": "3.9.7"
  }
 },
 "nbformat": 4,
 "nbformat_minor": 5
}
